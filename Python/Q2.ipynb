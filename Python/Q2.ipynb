{
 "cells": [
  {
   "cell_type": "code",
   "execution_count": 5,
   "metadata": {},
   "outputs": [
    {
     "name": "stdout",
     "output_type": "stream",
     "text": [
      "Enter length of first side : 3\n",
      "Enter length of second side: 4\n",
      "The length of hypotenuse is: 5.0\n"
     ]
    }
   ],
   "source": [
    "from math import sqrt\n",
    "a=float(input(\"Enter length of first side : \"))\n",
    "b=float(input(\"Enter length of second side: \"))\n",
    "c=sqrt(a**2+b**2)\n",
    "print(\"The length of hypotenuse is:\",c)"
   ]
  }
 ],
 "metadata": {
  "kernelspec": {
   "display_name": "Python 3",
   "language": "python",
   "name": "python3"
  },
  "language_info": {
   "codemirror_mode": {
    "name": "ipython",
    "version": 3
   },
   "file_extension": ".py",
   "mimetype": "text/x-python",
   "name": "python",
   "nbconvert_exporter": "python",
   "pygments_lexer": "ipython3",
   "version": "3.7.6"
  }
 },
 "nbformat": 4,
 "nbformat_minor": 4
}
