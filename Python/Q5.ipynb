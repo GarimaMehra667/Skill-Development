{
 "cells": [
  {
   "cell_type": "code",
   "execution_count": 1,
   "metadata": {},
   "outputs": [
    {
     "name": "stdout",
     "output_type": "stream",
     "text": [
      "Enter the letter : Q\n",
      "Q  is Upper Case Alphabet.\n"
     ]
    }
   ],
   "source": [
    "letter=input(\"Enter the letter : \")\n",
    "if letter.isupper():\n",
    "    print(letter,\" is Upper Case Alphabet.\")\n",
    "elif letter.islower():\n",
    "    print(letter,\" is Lower Case Alphabet.\") \n",
    "else:\n",
    "    print(letter,\"is not an Alphabet.\")"
   ]
  }
 ],
 "metadata": {
  "kernelspec": {
   "display_name": "Python 3",
   "language": "python",
   "name": "python3"
  },
  "language_info": {
   "codemirror_mode": {
    "name": "ipython",
    "version": 3
   },
   "file_extension": ".py",
   "mimetype": "text/x-python",
   "name": "python",
   "nbconvert_exporter": "python",
   "pygments_lexer": "ipython3",
   "version": "3.8.3"
  }
 },
 "nbformat": 4,
 "nbformat_minor": 4
}
