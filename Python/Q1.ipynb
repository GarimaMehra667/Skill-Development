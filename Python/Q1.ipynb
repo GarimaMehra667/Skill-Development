{
 "cells": [
  {
   "cell_type": "code",
   "execution_count": 2,
   "metadata": {},
   "outputs": [
    {
     "name": "stdout",
     "output_type": "stream",
     "text": [
      "Minutes in a week : 10080 minutes\n"
     ]
    }
   ],
   "source": [
    "HoursPerDay = 24\n",
    "DaysPerWeek = 7\n",
    "MinutesPerHour=60\n",
    "MinutesInDay=MinutesPerHour*HoursPerDay\n",
    "MinutesInWeek=MinutesInDay*DaysPerWeek\n",
    "print(\"Minutes in a week : {} minutes\".format(MinutesInWeek))"
   ]
  }
 ],
 "metadata": {
  "kernelspec": {
   "display_name": "Python 3",
   "language": "python",
   "name": "python3"
  },
  "language_info": {
   "codemirror_mode": {
    "name": "ipython",
    "version": 3
   },
   "file_extension": ".py",
   "mimetype": "text/x-python",
   "name": "python",
   "nbconvert_exporter": "python",
   "pygments_lexer": "ipython3",
   "version": "3.8.3"
  }
 },
 "nbformat": 4,
 "nbformat_minor": 4
}
