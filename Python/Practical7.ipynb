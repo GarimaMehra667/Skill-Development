{
 "cells": [
  {
   "cell_type": "code",
   "execution_count": 1,
   "metadata": {},
   "outputs": [
    {
     "name": "stdout",
     "output_type": "stream",
     "text": [
      "Enter a number :3\n",
      "Three to the power of  3\n",
      "27.0\n",
      "The square root of  3\n",
      "1.7320508075688772\n",
      "The factorial of  3\n",
      "6\n",
      "The degrees of  3\n",
      "171.88733853924697\n",
      "The radians of  3\n",
      "0.05235987755982989\n"
     ]
    }
   ],
   "source": [
    "import math\n",
    "n=int(input(\"Enter a number :\"))\n",
    "math.pow(n,3)\n",
    "print(\"Three to the power of \",n)\n",
    "print(math.pow(n,3))\n",
    "math.sqrt(n)\n",
    "print(\"The square root of \",n)\n",
    "print(math.sqrt(n))\n",
    "math.factorial(n)\n",
    "print(\"The factorial of \",n)\n",
    "print(math.factorial(n))\n",
    "math.degrees(n)\n",
    "print(\"The degrees of \",n)\n",
    "print(math.degrees(n))\n",
    "math.radians(n)\n",
    "print(\"The radians of \",n)\n",
    "print(math.radians(n))"
   ]
  }
 ],
 "metadata": {
  "kernelspec": {
   "display_name": "Python 3",
   "language": "python",
   "name": "python3"
  },
  "language_info": {
   "codemirror_mode": {
    "name": "ipython",
    "version": 3
   },
   "file_extension": ".py",
   "mimetype": "text/x-python",
   "name": "python",
   "nbconvert_exporter": "python",
   "pygments_lexer": "ipython3",
   "version": "3.7.6"
  }
 },
 "nbformat": 4,
 "nbformat_minor": 4
}
