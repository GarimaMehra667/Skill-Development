{
 "cells": [
  {
   "cell_type": "code",
   "execution_count": 2,
   "metadata": {},
   "outputs": [
    {
     "name": "stdout",
     "output_type": "stream",
     "text": [
      "Enter the string : hi my name is garima\n",
      "Alphabatical order of string is: \n",
      "garima\n",
      "hi\n",
      "is\n",
      "my\n",
      "name\n"
     ]
    }
   ],
   "source": [
    "string=input(\"Enter the string : \")\n",
    "word=string.split()\n",
    "word.sort()\n",
    "print(\"Alphabatical order of string is: \")\n",
    "for i in word:\n",
    "    print(i)"
   ]
  }
 ],
 "metadata": {
  "kernelspec": {
   "display_name": "Python 3",
   "language": "python",
   "name": "python3"
  },
  "language_info": {
   "codemirror_mode": {
    "name": "ipython",
    "version": 3
   },
   "file_extension": ".py",
   "mimetype": "text/x-python",
   "name": "python",
   "nbconvert_exporter": "python",
   "pygments_lexer": "ipython3",
   "version": "3.7.6"
  }
 },
 "nbformat": 4,
 "nbformat_minor": 4
}
