{
 "cells": [
  {
   "cell_type": "code",
   "execution_count": 6,
   "metadata": {},
   "outputs": [
    {
     "name": "stdout",
     "output_type": "stream",
     "text": [
      "Enter the fruit name you want to check : cherry\n",
      "The length of the list is: 4\n",
      "YES, cherry exist in list.\n",
      "Coppy list :  ['cherry', 'apple', 'mango', 'grapes']\n"
     ]
    }
   ],
   "source": [
    "fruits=[\"cherry\",\"apple\",\"mango\",\"grapes\"]\n",
    "fruit=input(\"Enter the fruit name you want to check : \")\n",
    "print(\"The length of the list is:\",len(fruits))\n",
    "if fruit in fruits:\n",
    "    print(\"YES, {} exist in list.\".format(fruit))\n",
    "else:\n",
    "    print(\"NO, {}  does not exist in list.\".format(fruit))\n",
    "fruitscopy=fruits.copy()\n",
    "print(\"Coppy list : \",fruitscopy)"
   ]
  }
 ],
 "metadata": {
  "kernelspec": {
   "display_name": "Python 3",
   "language": "python",
   "name": "python3"
  },
  "language_info": {
   "codemirror_mode": {
    "name": "ipython",
    "version": 3
   },
   "file_extension": ".py",
   "mimetype": "text/x-python",
   "name": "python",
   "nbconvert_exporter": "python",
   "pygments_lexer": "ipython3",
   "version": "3.8.3"
  }
 },
 "nbformat": 4,
 "nbformat_minor": 4
}
