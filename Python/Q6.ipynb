{
 "cells": [
  {
   "cell_type": "code",
   "execution_count": 3,
   "metadata": {},
   "outputs": [
    {
     "name": "stdout",
     "output_type": "stream",
     "text": [
      "1. Calculate area and perimeter of SQUARE.\n",
      "2. Calculate area and perimeter of RECTANGLE.\n",
      "3. Calculate area and perimeter of TRIANGLE.\n",
      "4. Calculate area and perimeter of CIRCLE.\n",
      "5. EXIT\n",
      "\n",
      "ENTER YOUR CHOICE:1\n",
      "Enter the side of square:4\n",
      "Area of SQUARE is: 16 cm\n",
      "Perimeter of SQUARE is: 16 cm\n",
      "\n",
      "ENTER YOUR CHOICE:2\n",
      "Enter the length of rectangle: 6\n",
      "Enter the breadth of rectangle: 7\n",
      "Area of RECTANGLE is: 42 cm\n",
      "Perimeter of RECTANGLE is: 26 cm\n",
      "\n",
      "ENTER YOUR CHOICE:3\n",
      "Enter the breadth of Triangle: 8\n",
      "Enter the length of Triangle: 6\n",
      "Enter the height of Triangle: 5\n",
      "Area of TRIANGLE is: 14.981238266578634 cm\n",
      "Perimeter of TRIANGLE is: 19.0 cm\n",
      "\n",
      "ENTER YOUR CHOICE:4\n",
      "Enter the radius of CIRCLE: 9\n",
      "Area of CIRCLE is: 254.34 cm\n",
      "Perimeter of CIRCLE is: 56.52 cm\n",
      "\n",
      "ENTER YOUR CHOICE:9\n",
      "You entered wrong number! \n",
      "\n",
      "ENTER YOUR CHOICE:5\n",
      "EXIT\n",
      "Thanks again, bye now.\n"
     ]
    }
   ],
   "source": [
    "print(\"1. Calculate area and perimeter of SQUARE.\") \n",
    "print(\"2. Calculate area and perimeter of RECTANGLE.\")\n",
    "print(\"3. Calculate area and perimeter of TRIANGLE.\")\n",
    "print(\"4. Calculate area and perimeter of CIRCLE.\")\n",
    "print(\"5. EXIT\")\n",
    "run=5\n",
    "while run>0:\n",
    "    n=int(input(\"\\nENTER YOUR CHOICE:\")) \n",
    "    if n==1:\n",
    "        side=int(input(\"Enter the side of square:\"))\n",
    "        area=side*side\n",
    "        perimeter=4*side\n",
    "        print(\"Area of SQUARE is:\",area,\"cm\")\n",
    "        print(\"Perimeter of SQUARE is:\",perimeter,\"cm\")\n",
    "    elif n==2:\n",
    "        length=int(input(\"Enter the length of rectangle: \"))\n",
    "        breadth=int(input(\"Enter the breadth of rectangle: \"))\n",
    "        area=length*breadth\n",
    "        perimeter=2*(length+breadth)\n",
    "        print(\"Area of RECTANGLE is:\",area,\"cm\")\n",
    "        print(\"Perimeter of RECTANGLE is:\",perimeter,\"cm\")\n",
    "    elif n==3:\n",
    "        side1=float(input(\"Enter the breadth of Triangle: \"))\n",
    "        side2=float(input(\"Enter the length of Triangle: \")) \n",
    "        side3=float(input(\"Enter the height of Triangle: \"))\n",
    "        perimeter=side1+side2+side3\n",
    "        s=(side1+side2+side3)/2 \n",
    "        area=(s*(s-side1)*(s-side2)*(s-side3)) ** 0.5\n",
    "        print(\"Area of TRIANGLE is:\",area,\"cm\")\n",
    "        print(\"Perimeter of TRIANGLE is:\",perimeter,\"cm\")\n",
    "    elif n==4:\n",
    "        PI=3.14 \n",
    "        radius=float(input(\"Enter the radius of CIRCLE: \")) \n",
    "        area=PI*radius*radius \n",
    "        perimeter=2*PI*radius \n",
    "        print(\"Area of CIRCLE is:\",area,\"cm\")\n",
    "        print(\"Perimeter of CIRCLE is:\",perimeter,\"cm\")\n",
    "    elif n==5:\n",
    "         print(\"EXIT\")\n",
    "         break\n",
    "    else:\n",
    "        print(\"You entered wrong number! \")\n",
    "print(\"Thanks again, bye now.\")"
   ]
  }
 ],
 "metadata": {
  "kernelspec": {
   "display_name": "Python 3",
   "language": "python",
   "name": "python3"
  },
  "language_info": {
   "codemirror_mode": {
    "name": "ipython",
    "version": 3
   },
   "file_extension": ".py",
   "mimetype": "text/x-python",
   "name": "python",
   "nbconvert_exporter": "python",
   "pygments_lexer": "ipython3",
   "version": "3.8.3"
  }
 },
 "nbformat": 4,
 "nbformat_minor": 4
}
