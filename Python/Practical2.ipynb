{
 "cells": [
  {
   "cell_type": "code",
   "execution_count": 2,
   "metadata": {},
   "outputs": [
    {
     "name": "stdout",
     "output_type": "stream",
     "text": [
      "Enter the number of inputs :2\n",
      "Enter the number :15\n",
      "15 is a positive number.\n",
      "15 is an odd number.\n",
      "Enter the number :12\n",
      "12 is a positive number.\n",
      "12 is an even number.\n"
     ]
    }
   ],
   "source": [
    "n=int(input(\"Enter the number of inputs :\"))\n",
    "for i in range(n):\n",
    "    n1=int(input(\"Enter the number :\"))\n",
    "    if n1<0 :\n",
    "     print(n1,\"is a negative number.\")\n",
    "    else:\n",
    "     print(n1,\"is a positive number.\")\n",
    "    if (n1%2)==0:\n",
    "     print(n1,\"is an even number.\")\n",
    "    else:\n",
    "     print(n1,\"is an odd number.\")"
   ]
  }
 ],
 "metadata": {
  "kernelspec": {
   "display_name": "Python 3",
   "language": "python",
   "name": "python3"
  },
  "language_info": {
   "codemirror_mode": {
    "name": "ipython",
    "version": 3
   },
   "file_extension": ".py",
   "mimetype": "text/x-python",
   "name": "python",
   "nbconvert_exporter": "python",
   "pygments_lexer": "ipython3",
   "version": "3.8.3"
  }
 },
 "nbformat": 4,
 "nbformat_minor": 4
}
