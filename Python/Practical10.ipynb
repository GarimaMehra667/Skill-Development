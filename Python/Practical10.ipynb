{
 "cells": [
  {
   "cell_type": "code",
   "execution_count": 3,
   "metadata": {},
   "outputs": [
    {
     "name": "stdout",
     "output_type": "stream",
     "text": [
      "The Original Tuple is :  ('CPU', 'Monitor', 'Mouse')\n",
      "Tuple after joining is: ('CPU', 'Monitor', 'Mouse', 'Keyboard', 'Printer')\n"
     ]
    }
   ],
   "source": [
    "computer_parts=(\"CPU\",\"Monitor\",\"Mouse\")\n",
    "print(\"The Original Tuple is : \",computer_parts)\n",
    "computer_parts1=(\"Keyboard\",\"Printer\")\n",
    "computer_parts=computer_parts+computer_parts1\n",
    "print(\"Tuple after joining is:\",computer_parts)"
   ]
  }
 ],
 "metadata": {
  "kernelspec": {
   "display_name": "Python 3",
   "language": "python",
   "name": "python3"
  },
  "language_info": {
   "codemirror_mode": {
    "name": "ipython",
    "version": 3
   },
   "file_extension": ".py",
   "mimetype": "text/x-python",
   "name": "python",
   "nbconvert_exporter": "python",
   "pygments_lexer": "ipython3",
   "version": "3.8.3"
  }
 },
 "nbformat": 4,
 "nbformat_minor": 4
}
