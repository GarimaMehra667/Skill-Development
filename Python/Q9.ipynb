{
 "cells": [
  {
   "cell_type": "code",
   "execution_count": 5,
   "metadata": {},
   "outputs": [
    {
     "name": "stdout",
     "output_type": "stream",
     "text": [
      "Enter first number: 10\n",
      "Enter first number: 20\n",
      "The HCF of 10 and 20 is: 10\n"
     ]
    }
   ],
   "source": [
    "def hcf(x,y):\n",
    "    if x>y:\n",
    "        small=y\n",
    "    else:\n",
    "        small=x\n",
    "    for i in range(1,small+1):\n",
    "        if((x%i==0)and (y%i==0)):\n",
    "            hcf=i\n",
    "    return hcf\n",
    "n1=int(input(\"Enter first number: \"))\n",
    "n2=int(input(\"Enter first number: \"))\n",
    "print(\"The HCF of\",n1,\"and\",n2,\"is:\",hcf(n1,n2))"
   ]
  }
 ],
 "metadata": {
  "kernelspec": {
   "display_name": "Python 3",
   "language": "python",
   "name": "python3"
  },
  "language_info": {
   "codemirror_mode": {
    "name": "ipython",
    "version": 3
   },
   "file_extension": ".py",
   "mimetype": "text/x-python",
   "name": "python",
   "nbconvert_exporter": "python",
   "pygments_lexer": "ipython3",
   "version": "3.7.6"
  }
 },
 "nbformat": 4,
 "nbformat_minor": 4
}
