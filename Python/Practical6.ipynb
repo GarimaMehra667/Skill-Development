{
 "cells": [
  {
   "cell_type": "code",
   "execution_count": 4,
   "metadata": {},
   "outputs": [
    {
     "name": "stdout",
     "output_type": "stream",
     "text": [
      "Enter a number for prime :15\n",
      "Number is a prime number\n",
      "Enter a number for armstrong :153\n",
      "Number is Armstrong\n"
     ]
    }
   ],
   "source": [
    "n=int(input(\"Enter a number for prime :\"))\n",
    "def prime(n):\n",
    "    if (n==1):\n",
    "        return False\n",
    "    elif (n==2):\n",
    "        return True;\n",
    "    else:\n",
    "        for x in range(2,n):\n",
    "            if(number % x==0):\n",
    "                return False\n",
    "        return True  \n",
    "if(prime(n)):\n",
    "    print(\"Number is not a prime number\")\n",
    "else:\n",
    "    print(\"Number is a prime number\")\n",
    "n=int(input(\"Enter a number for armstrong :\"))\n",
    "def armstrong(n):\n",
    "    sum=0;\n",
    "    temp=n\n",
    "    while temp!=0:\n",
    "        num=temp%10\n",
    "        sum=sum+num*num*num\n",
    "        temp=temp//10\n",
    "    if(sum==n):\n",
    "        print(\"Number is Armstrong\")\n",
    "    else:\n",
    "        print(\"Number is not a Armstrong number\")\n",
    "armstrong(n)    "
   ]
  }
 ],
 "metadata": {
  "kernelspec": {
   "display_name": "Python 3",
   "language": "python",
   "name": "python3"
  },
  "language_info": {
   "codemirror_mode": {
    "name": "ipython",
    "version": 3
   },
   "file_extension": ".py",
   "mimetype": "text/x-python",
   "name": "python",
   "nbconvert_exporter": "python",
   "pygments_lexer": "ipython3",
   "version": "3.8.3"
  }
 },
 "nbformat": 4,
 "nbformat_minor": 4
}
