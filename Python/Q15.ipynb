{
 "cells": [
  {
   "cell_type": "code",
   "execution_count": 8,
   "metadata": {},
   "outputs": [
    {
     "name": "stdout",
     "output_type": "stream",
     "text": [
      "Enter a Natural number: 5\n",
      "Sum of Natural number is:  15\n"
     ]
    }
   ],
   "source": [
    "def sum(n):\n",
    "    if n<=1:\n",
    "        return n\n",
    "    return n + sum(n-1)\n",
    "num=int(input(\"Enter a Natural number: \"))\n",
    "print(\"Sum of Natural number is: \",sum(num))"
   ]
  }
 ],
 "metadata": {
  "kernelspec": {
   "display_name": "Python 3",
   "language": "python",
   "name": "python3"
  },
  "language_info": {
   "codemirror_mode": {
    "name": "ipython",
    "version": 3
   },
   "file_extension": ".py",
   "mimetype": "text/x-python",
   "name": "python",
   "nbconvert_exporter": "python",
   "pygments_lexer": "ipython3",
   "version": "3.7.6"
  }
 },
 "nbformat": 4,
 "nbformat_minor": 4
}
