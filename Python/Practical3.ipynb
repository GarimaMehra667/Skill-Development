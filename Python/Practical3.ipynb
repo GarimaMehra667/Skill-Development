{
 "cells": [
  {
   "cell_type": "code",
   "execution_count": 1,
   "metadata": {
    "scrolled": false
   },
   "outputs": [
    {
     "name": "stdout",
     "output_type": "stream",
     "text": [
      "Enter the word :My\n",
      "M\n",
      "y\n",
      "Enter the word :name\n",
      "n\n",
      "a\n",
      "m\n",
      "e\n",
      "Enter the word :is\n",
      "i\n",
      "s\n",
      "Enter the word :Garima\n",
      "G\n",
      "a\n",
      "r\n",
      "i\n",
      "m\n",
      "a\n",
      "Enter the word :Mehra\n",
      "M\n",
      "e\n",
      "h\n",
      "r\n",
      "a\n"
     ]
    }
   ],
   "source": [
    "for i in range(1,6):\n",
    " word=input(\"Enter the word :\")\n",
    " for char in word:\n",
    "  print(char)"
   ]
  }
 ],
 "metadata": {
  "kernelspec": {
   "display_name": "Python 3",
   "language": "python",
   "name": "python3"
  },
  "language_info": {
   "codemirror_mode": {
    "name": "ipython",
    "version": 3
   },
   "file_extension": ".py",
   "mimetype": "text/x-python",
   "name": "python",
   "nbconvert_exporter": "python",
   "pygments_lexer": "ipython3",
   "version": "3.8.3"
  }
 },
 "nbformat": 4,
 "nbformat_minor": 4
}
