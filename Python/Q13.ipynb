{
 "cells": [
  {
   "cell_type": "code",
   "execution_count": 17,
   "metadata": {},
   "outputs": [
    {
     "name": "stdout",
     "output_type": "stream",
     "text": [
      "The elements in a list until an element is a tuple are:\n",
      "3\n"
     ]
    }
   ],
   "source": [
    "def elements(listis): \n",
    "    n = 0\n",
    "    for num in listis: \n",
    "        if isinstance(num, tuple): \n",
    "            break\n",
    "        n = n + 1\n",
    "    return n \n",
    "listis = [5, 8, 0, (2,4), 99, (8,7), 3] \n",
    "print(\"The elements in a list until an element is a tuple are:\")\n",
    "print(elements(listis))"
   ]
  }
 ],
 "metadata": {
  "kernelspec": {
   "display_name": "Python 3",
   "language": "python",
   "name": "python3"
  },
  "language_info": {
   "codemirror_mode": {
    "name": "ipython",
    "version": 3
   },
   "file_extension": ".py",
   "mimetype": "text/x-python",
   "name": "python",
   "nbconvert_exporter": "python",
   "pygments_lexer": "ipython3",
   "version": "3.7.6"
  }
 },
 "nbformat": 4,
 "nbformat_minor": 4
}
