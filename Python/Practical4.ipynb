{
 "cells": [
  {
   "cell_type": "code",
   "execution_count": 10,
   "metadata": {},
   "outputs": [
    {
     "name": "stdout",
     "output_type": "stream",
     "text": [
      "Fruit list is:\n",
      "cherry\n",
      "apple\n",
      "mango\n",
      "grapes\n",
      "The output fruit list is:\n",
      "pear\n",
      "mango\n",
      "peach\n",
      "banana\n"
     ]
    }
   ],
   "source": [
    "fruits=[\"cherry\",\"apple\",\"mango\",\"grapes\"]\n",
    "fruit1=[\"banana\"]\n",
    "print(\"Fruit list is:\")\n",
    "for i in fruits:\n",
    "    print(i)\n",
    "fruits.insert(2,\"pear\")\n",
    "fruits.append(\"peach\")\n",
    "fruits.extend(fruit1)\n",
    "del fruits[0]\n",
    "fruit=fruits.pop(3)\n",
    "fruits.remove(\"apple\")\n",
    "print(\"The output fruit list is:\")\n",
    "for j in fruits:\n",
    "    print(j)"
   ]
  }
 ],
 "metadata": {
  "kernelspec": {
   "display_name": "Python 3",
   "language": "python",
   "name": "python3"
  },
  "language_info": {
   "codemirror_mode": {
    "name": "ipython",
    "version": 3
   },
   "file_extension": ".py",
   "mimetype": "text/x-python",
   "name": "python",
   "nbconvert_exporter": "python",
   "pygments_lexer": "ipython3",
   "version": "3.8.3"
  }
 },
 "nbformat": 4,
 "nbformat_minor": 4
}
