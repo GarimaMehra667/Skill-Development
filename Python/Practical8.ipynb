{
 "cells": [
  {
   "cell_type": "code",
   "execution_count": 22,
   "metadata": {},
   "outputs": [
    {
     "name": "stdout",
     "output_type": "stream",
     "text": [
      "1.The upper case of string is: THIS IS A STRING FUNCTION\n",
      "2.The lower case of string is: this is a string function\n",
      "3.Is the string numeric? : False\n",
      "4.The join function:  Hello_there!\n",
      "5.Splittng the string:  ['This', 'is', 'a', 'String', 'Function']\n",
      "6.Finding the string: 10\n",
      "7.String is present at index: 10\n"
     ]
    }
   ],
   "source": [
    "string=\"This is a String Function\"\n",
    "print(\"1.The upper case of string is:\",string.upper())\n",
    "print(\"2.The lower case of string is:\",string.lower())\n",
    "print(\"3.Is the string numeric? :\",string.isnumeric())\n",
    "lists=[\"Hello\",\"there!\"]\n",
    "print(\"4.The join function: \",\"_\".join(lists))\n",
    "print(\"5.Splittng the string: \",string.split())\n",
    "print(\"6.Finding the string:\",string.find(\"String\"))\n",
    "print(\"7.String is present at index:\",string.index(\"String\"))"
   ]
  }
 ],
 "metadata": {
  "kernelspec": {
   "display_name": "Python 3",
   "language": "python",
   "name": "python3"
  },
  "language_info": {
   "codemirror_mode": {
    "name": "ipython",
    "version": 3
   },
   "file_extension": ".py",
   "mimetype": "text/x-python",
   "name": "python",
   "nbconvert_exporter": "python",
   "pygments_lexer": "ipython3",
   "version": "3.8.3"
  }
 },
 "nbformat": 4,
 "nbformat_minor": 4
}
