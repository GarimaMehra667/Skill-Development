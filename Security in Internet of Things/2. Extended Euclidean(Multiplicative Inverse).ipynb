{
 "cells": [
  {
   "cell_type": "code",
   "execution_count": 13,
   "metadata": {},
   "outputs": [
    {
     "name": "stdout",
     "output_type": "stream",
     "text": [
      "Enter the value of a: 26\n",
      "Enter the value of b: 11\n",
      "\n",
      "Iteration Number :  1\n",
      "2 11 4 4 0 1 -2 1 -2\n",
      "No Multiplicative inverse\n",
      "\n",
      "Iteration Number :  2\n",
      "2 4 3 3 1 -2 5 -2 5\n",
      "No Multiplicative inverse\n",
      "\n",
      "Iteration Number :  3\n",
      "1 3 1 1 -2 3 -7 5 -7\n",
      "No Multiplicative inverse\n",
      "\n",
      "Iteration Number :  4\n",
      "3 1 0 0 3 -11 26 -7 26\n",
      "\n",
      "GCD of a and b is 1 so multiplicative inverse is defined and is equal to  -7\n"
     ]
    }
   ],
   "source": [
    "s1=1\n",
    "s2=0\n",
    "t1=0\n",
    "t2=1\n",
    "r1=int(input(\"Enter the value of a: \"))\n",
    "r2=int(input(\"Enter the value of b: \"))\n",
    "step=0\n",
    "while r2!=0:\n",
    "    q=r1//r2\n",
    "    r=r1-(q*r2)\n",
    "    r1=r2\n",
    "    r2=r\n",
    "    s=s1-(q*s2)\n",
    "    s1=s2\n",
    "    s2=s\n",
    "    t=t1-(q*t2)\n",
    "    t1=t2\n",
    "    t2=t\n",
    "    step=step+1\n",
    "    print(\"\\nIteration Number : \",step)\n",
    "    print(q,r1,r2,r,s1,s2,t,t1,t2)\n",
    "    if r1==1:\n",
    "        print(\"\\nGCD of a and b is 1 so multiplicative inverse is defined and is equal to \",t1)\n",
    "    else:\n",
    "        print(\"No Multiplicative inverse\")    "
   ]
  }
 ],
 "metadata": {
  "kernelspec": {
   "display_name": "Python 3",
   "language": "python",
   "name": "python3"
  },
  "language_info": {
   "codemirror_mode": {
    "name": "ipython",
    "version": 3
   },
   "file_extension": ".py",
   "mimetype": "text/x-python",
   "name": "python",
   "nbconvert_exporter": "python",
   "pygments_lexer": "ipython3",
   "version": "3.8.3"
  }
 },
 "nbformat": 4,
 "nbformat_minor": 4
}
