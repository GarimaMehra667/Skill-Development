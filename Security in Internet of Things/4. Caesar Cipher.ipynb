{
 "cells": [
  {
   "cell_type": "markdown",
   "metadata": {},
   "source": [
    "Encryption"
   ]
  },
  {
   "cell_type": "code",
   "execution_count": 2,
   "metadata": {},
   "outputs": [
    {
     "name": "stdout",
     "output_type": "stream",
     "text": [
      "Enter text to be encrypted : Garima\n",
      "Enter the shift parameter : 3\n",
      "Encrypted text :  Jdulpd\n"
     ]
    }
   ],
   "source": [
    "plaintext=input(\"Enter text to be encrypted : \")\n",
    "shift_parameter=int(input(\"Enter the shift parameter : \"))\n",
    "\n",
    "length_text=len(plaintext)\n",
    "encrypted=''\n",
    "\n",
    "for i in range(length_text):\n",
    "    char=plaintext[i]\n",
    "    if(char.isupper()):\n",
    "        encrypted += chr((ord(char)+shift_parameter-65)%26+65)\n",
    "    else:\n",
    "        encrypted += chr((ord(char)+shift_parameter-97)%26+97)\n",
    "        \n",
    "print(\"Encrypted text : \",encrypted)"
   ]
  },
  {
   "cell_type": "markdown",
   "metadata": {},
   "source": [
    "Decryption"
   ]
  },
  {
   "cell_type": "code",
   "execution_count": 1,
   "metadata": {},
   "outputs": [
    {
     "name": "stdout",
     "output_type": "stream",
     "text": [
      "Enter text to be decrypted : Jdulpd\n",
      "Enter the shift parameter : 3\n",
      "Encrypted text :  Garima\n"
     ]
    }
   ],
   "source": [
    "encrypted_text=input(\"Enter text to be decrypted : \")\n",
    "shift_parameter=int(input(\"Enter the shift parameter : \"))\n",
    "\n",
    "length_text=len(encrypted_text)\n",
    "decrypted=''\n",
    "\n",
    "for i in range(length_text):\n",
    "    char=encrypted_text[i]\n",
    "    if(char.isupper()):\n",
    "        decrypted=decrypted+chr((ord(char)-shift_parameter-65)%26+65)\n",
    "    else:\n",
    "        decrypted=decrypted+chr((ord(char)-shift_parameter-97)%26+97)\n",
    "print(\"Encrypted text : \",decrypted)"
   ]
  },
  {
   "cell_type": "markdown",
   "metadata": {},
   "source": [
    "Brute Force Attack"
   ]
  },
  {
   "cell_type": "code",
   "execution_count": 13,
   "metadata": {},
   "outputs": [
    {
     "name": "stdout",
     "output_type": "stream",
     "text": [
      "Enter text to be decrypted : Jdulpd\n",
      "Jdulpd\n",
      "Ictkoc\n",
      "Hbsjnb\n",
      "Garima\n",
      "Fzqhlz\n",
      "Eypgky\n",
      "Dxofjx\n",
      "Cwneiw\n",
      "Bvmdhv\n",
      "Aulcgu\n",
      "Ztkbft\n",
      "Ysjaes\n",
      "Xrizdr\n",
      "Wqhycq\n",
      "Vpgxbp\n",
      "Uofwao\n",
      "Tnevzn\n",
      "Smduym\n",
      "Rlctxl\n",
      "Qkbswk\n",
      "Pjarvj\n",
      "Oizqui\n",
      "Nhypth\n",
      "Mgxosg\n",
      "Lfwnrf\n"
     ]
    }
   ],
   "source": [
    "encrypted_text=input(\"Enter text to be decrypted : \")\n",
    "decrypted_text=''\n",
    "for i in range(0,25):\n",
    "    decrypted_text=''\n",
    "    for char in encrypted_text:\n",
    "        if(char.isupper()):\n",
    "            decrypted_text=decrypted_text+chr((ord(char)-i-65)%26+65)\n",
    "        else:\n",
    "            decrypted_text=decrypted_text+chr((ord(char)-i-97)%26+97)\n",
    "    print(decrypted_text)"
   ]
  }
 ],
 "metadata": {
  "kernelspec": {
   "display_name": "Python 3",
   "language": "python",
   "name": "python3"
  },
  "language_info": {
   "codemirror_mode": {
    "name": "ipython",
    "version": 3
   },
   "file_extension": ".py",
   "mimetype": "text/x-python",
   "name": "python",
   "nbconvert_exporter": "python",
   "pygments_lexer": "ipython3",
   "version": "3.8.3"
  }
 },
 "nbformat": 4,
 "nbformat_minor": 4
}
