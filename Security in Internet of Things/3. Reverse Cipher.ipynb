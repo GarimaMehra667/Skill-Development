{
 "cells": [
  {
   "cell_type": "markdown",
   "metadata": {},
   "source": [
    "Encryption"
   ]
  },
  {
   "cell_type": "code",
   "execution_count": 4,
   "metadata": {},
   "outputs": [
    {
     "name": "stdout",
     "output_type": "stream",
     "text": [
      "Enter text to be encrypted : Garima Mehra\n",
      "Encrypted text :  arheM amiraG\n"
     ]
    }
   ],
   "source": [
    "plaintext=input(\"Enter text to be encrypted : \")  \n",
    "length_text=len(plaintext) \n",
    "\n",
    "encrypted=''\n",
    "i=length_text-1\n",
    "\n",
    "while i>=0:\n",
    "    encrypted=encrypted+plaintext[i]\n",
    "    i=i-1\n",
    "    \n",
    "print(\"Encrypted text : \",encrypted)"
   ]
  },
  {
   "cell_type": "markdown",
   "metadata": {},
   "source": [
    "Decryption"
   ]
  },
  {
   "cell_type": "code",
   "execution_count": 5,
   "metadata": {},
   "outputs": [
    {
     "name": "stdout",
     "output_type": "stream",
     "text": [
      "Enter text to be encrypted : arheM amiraG\n",
      "Encrypted text :  Garima Mehra\n"
     ]
    }
   ],
   "source": [
    "encrypted=input(\"Enter text to be encrypted : \")\n",
    "length_text=len(encrypted)\n",
    "\n",
    "plaintext=''\n",
    "i=length_text-1\n",
    "\n",
    "while i>=0:\n",
    "    plaintext=plaintext+encrypted[i]\n",
    "    i=i-1\n",
    "    \n",
    "print(\"Encrypted text : \",plaintext)"
   ]
  }
 ],
 "metadata": {
  "kernelspec": {
   "display_name": "Python 3",
   "language": "python",
   "name": "python3"
  },
  "language_info": {
   "codemirror_mode": {
    "name": "ipython",
    "version": 3
   },
   "file_extension": ".py",
   "mimetype": "text/x-python",
   "name": "python",
   "nbconvert_exporter": "python",
   "pygments_lexer": "ipython3",
   "version": "3.8.3"
  }
 },
 "nbformat": 4,
 "nbformat_minor": 4
}
